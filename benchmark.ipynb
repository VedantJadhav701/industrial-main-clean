{
 "cells": [
  {
   "cell_type": "code",
   "execution_count": 1,
   "id": "bd773d4b-24bf-4273-8159-c0890a5d98df",
   "metadata": {},
   "outputs": [],
   "source": [
    "import os\n",
    "import random\n",
    "import numpy as np\n",
    "import pandas as pd\n",
    "from collections import defaultdict\n",
    "from PIL import Image\n",
    "\n",
    "import torch\n",
    "import torch.nn as nn\n",
    "import torch.optim as optim\n",
    "from torch.utils.data import Dataset, DataLoader\n",
    "from torch.optim.lr_scheduler import CosineAnnealingLR\n",
    "from torch.amp import autocast, GradScaler\n",
    "\n",
    "import albumentations as A\n",
    "from albumentations.pytorch import ToTensorV2\n",
    "import segmentation_models_pytorch as smp\n",
    "from sklearn.model_selection import train_test_split\n",
    "import matplotlib.pyplot as plt\n",
    "from tqdm import tqdm\n",
    "\n",
    "# Optional: for reproducibility\n",
    "def set_seed(seed=42):\n",
    "    random.seed(seed)\n",
    "    np.random.seed(seed)\n",
    "    torch.manual_seed(seed)\n",
    "    torch.cuda.manual_seed_all(seed)\n",
    "set_seed(42)\n"
   ]
  },
  {
   "cell_type": "code",
   "execution_count": 2,
   "id": "fd7be9c3-7b9d-4791-bc58-2f519f63cf41",
   "metadata": {},
   "outputs": [],
   "source": [
    "# --------------------\n",
    "# Config class\n",
    "# --------------------\n",
    "class Config:\n",
    "    IMG_SIZE = (256, 256)\n",
    "    NUM_CLASSES = 4\n",
    "    BATCH_SIZE = 4\n",
    "    NUM_WORKERS = 0\n",
    "    EPOCHS = 40\n",
    "    DEVICE = \"cuda\" if torch.cuda.is_available() else \"cpu\"\n",
    "    LEARNING_RATE = 1e-4\n",
    "    WEIGHT_DECAY = 1e-5\n",
    "    OUTPUT_DIR = \"outputs\"\n",
    "    CHECKPOINT_DIR = os.path.join(OUTPUT_DIR, \"checkpoints\")\n",
    "    TRAIN_IMG_DIR = \"data/train_images\"\n",
    "    TRAIN_CSV = \"data/train.csv\"\n",
    "    AMP = True\n",
    "    SEED = 42\n",
    "    T_MAX = 32\n",
    "    ETA_MIN = 1e-6\n",
    "    TARGET_DICE = 0.95\n",
    "\n",
    "config = Config()\n",
    "os.makedirs(config.OUTPUT_DIR, exist_ok=True)\n",
    "os.makedirs(config.CHECKPOINT_DIR, exist_ok=True)\n",
    "\n",
    "# Utility: RLE decoding, augments\n",
    "def rle_decode(mask_rle, shape=(256,1600)):\n",
    "    if pd.isna(mask_rle):\n",
    "        return np.zeros(shape, dtype=np.uint8)\n",
    "    s = mask_rle.split()\n",
    "    starts, lengths = [np.asarray(x, dtype=int) for x in (s[0::2], s[1::2])]\n",
    "    starts -= 1\n",
    "    ends = starts + lengths\n",
    "    img = np.zeros(shape[0]*shape[1], dtype=np.uint8)\n",
    "    for lo, hi in zip(starts, ends):\n",
    "        img[lo:hi] = 1\n",
    "    return img.reshape((shape[1], shape[0])).T\n",
    "\n",
    "def get_train_augmentations():\n",
    "    return A.Compose([\n",
    "        A.HorizontalFlip(p=0.5), A.VerticalFlip(p=0.5), A.RandomRotate90(p=0.5),\n",
    "        A.Transpose(p=0.5), A.ElasticTransform(p=0.5), A.GridDistortion(p=0.2),\n",
    "        A.HueSaturationValue(p=0.7), A.RandomBrightnessContrast(p=0.5),\n",
    "        A.Blur(p=0.2), A.CLAHE(p=0.2),\n",
    "        A.Normalize(mean=(0.485,0.456,0.406), std=(0.229,0.224,0.225)), ToTensorV2()\n",
    "    ])\n",
    "\n",
    "def get_val_augmentations():\n",
    "    return A.Compose([\n",
    "        A.Normalize(mean=(0.485,0.456,0.406), std=(0.229,0.224,0.225)), ToTensorV2()\n",
    "    ])\n"
   ]
  },
  {
   "cell_type": "code",
   "execution_count": 3,
   "id": "1d4470e1-4d2b-46dd-ac0c-9592f89ec7ad",
   "metadata": {},
   "outputs": [],
   "source": [
    "# --------------------\n",
    "# Dataset\n",
    "# --------------------\n",
    "class SteelDefectDataset(Dataset):\n",
    "    def __init__(self, df, img_dir, img_size, mode='train'):\n",
    "        self.df = df.copy()\n",
    "        self.img_dir = img_dir\n",
    "        self.img_size = img_size\n",
    "        self.mode = mode\n",
    "        self.image_ids = self.df['ImageId'].unique()\n",
    "        self.transform = get_train_augmentations() if mode=='train' else get_val_augmentations()\n",
    "    def __len__(self): return len(self.image_ids)\n",
    "    def __getitem__(self, idx):\n",
    "        image_id = self.image_ids[idx]\n",
    "        img_path = os.path.join(self.img_dir, image_id)\n",
    "        image = np.array(Image.open(img_path).convert(\"RGB\").resize(self.img_size))\n",
    "        mask = np.zeros((*self.img_size, config.NUM_CLASSES), dtype=np.uint8)\n",
    "        records = self.df[self.df['ImageId'] == image_id]\n",
    "        for _, row in records.iterrows():\n",
    "            class_idx = int(row['ClassId']) - 1\n",
    "            single_mask = rle_decode(row['EncodedPixels'], shape=(256,1600))\n",
    "            single_mask_resized = np.array(Image.fromarray(single_mask).resize(self.img_size, resample=Image.NEAREST))\n",
    "            mask[..., class_idx] = single_mask_resized\n",
    "        auged = self.transform(image=image, mask=mask)\n",
    "        image = auged['image']\n",
    "        mask = auged['mask'].permute(2,0,1).float()\n",
    "        return image, mask\n",
    "\n",
    "# --------------------\n",
    "# Model: Improved UNet\n",
    "# --------------------\n",
    "class DoubleConv(nn.Module):\n",
    "    def __init__(self, in_ch, out_ch):\n",
    "        super().__init__()\n",
    "        self.net = nn.Sequential(\n",
    "            nn.Conv2d(in_ch, out_ch, 3, padding=1, bias=False),\n",
    "            nn.BatchNorm2d(out_ch),\n",
    "            nn.ReLU(inplace=True),\n",
    "            nn.Conv2d(out_ch, out_ch, 3, padding=1, bias=False),\n",
    "            nn.BatchNorm2d(out_ch),\n",
    "            nn.ReLU(inplace=True),\n",
    "        )\n",
    "    def forward(self, x):\n",
    "        return self.net(x)\n",
    "\n",
    "class ImprovedUNet(nn.Module):\n",
    "    def __init__(self, in_ch=3, out_ch=4, base=64):\n",
    "        super().__init__()\n",
    "        self.inc = DoubleConv(in_ch, base)\n",
    "        self.down1 = nn.Sequential(nn.MaxPool2d(2), DoubleConv(base, base*2))\n",
    "        self.down2 = nn.Sequential(nn.MaxPool2d(2), DoubleConv(base*2, base*4))\n",
    "        self.down3 = nn.Sequential(nn.MaxPool2d(2), DoubleConv(base*4, base*8))\n",
    "        self.down4 = nn.Sequential(nn.MaxPool2d(2), DoubleConv(base*8, base*16))\n",
    "\n",
    "        self.up1 = nn.ConvTranspose2d(base*16, base*8, 2, stride=2)\n",
    "        self.conv1 = DoubleConv(base*16, base*8)\n",
    "        self.up2 = nn.ConvTranspose2d(base*8, base*4, 2, stride=2)\n",
    "        self.conv2 = DoubleConv(base*8, base*4)\n",
    "        self.up3 = nn.ConvTranspose2d(base*4, base*2, 2, stride=2)\n",
    "        self.conv3 = DoubleConv(base*4, base*2)\n",
    "        self.up4 = nn.ConvTranspose2d(base*2, base, 2, stride=2)\n",
    "        self.conv4 = DoubleConv(base*2, base)\n",
    "        self.outc = nn.Conv2d(base, out_ch, 1)\n",
    "    def forward(self, x):\n",
    "        x1 = self.inc(x)\n",
    "        x2 = self.down1(x1)\n",
    "        x3 = self.down2(x2)\n",
    "        x4 = self.down3(x3)\n",
    "        x5 = self.down4(x4)\n",
    "        x = self.up1(x5); x = torch.cat([x, x4], dim=1); x = self.conv1(x)\n",
    "        x = self.up2(x);  x = torch.cat([x, x3], dim=1); x = self.conv2(x)\n",
    "        x = self.up3(x);  x = torch.cat([x, x2], dim=1); x = self.conv3(x)\n",
    "        x = self.up4(x);  x = torch.cat([x, x1], dim=1); x = self.conv4(x)\n",
    "        return self.outc(x)\n"
   ]
  },
  {
   "cell_type": "code",
   "execution_count": 4,
   "id": "3fd7052b-23c6-46a6-bc96-9e90f00d44c7",
   "metadata": {},
   "outputs": [],
   "source": [
    "class TverskyLoss(nn.Module):\n",
    "    def __init__(self, alpha=0.7, beta=0.3, smooth=1e-6):\n",
    "        super().__init__()\n",
    "        self.alpha = alpha\n",
    "        self.beta = beta\n",
    "        self.smooth = smooth\n",
    "    def forward(self, preds, targets):\n",
    "        preds = torch.sigmoid(preds)\n",
    "        TP = (preds * targets).sum(dim=(2,3))\n",
    "        FN = ((1-preds) * targets).sum(dim=(2,3))\n",
    "        FP = (preds * (1-targets)).sum(dim=(2,3))\n",
    "        t = (TP + self.smooth) / (TP + self.alpha*FP + self.beta*FN + self.smooth)\n",
    "        return 1.0 - t.mean()\n",
    "\n",
    "class CombinedLoss(nn.Module):\n",
    "    def __init__(self):\n",
    "        super().__init__()\n",
    "        self.dice = smp.losses.DiceLoss(mode='multilabel', from_logits=True)\n",
    "        self.tversky = TverskyLoss(alpha=0.7, beta=0.3)\n",
    "    def forward(self, preds, targets):\n",
    "        return 0.5*self.dice(preds, targets) + 0.5*self.tversky(preds, targets)\n",
    "\n",
    "def dice_score(pred, target, smooth=1e-6):\n",
    "    pred_bin = (torch.sigmoid(pred) > 0.5).float()\n",
    "    intersection = (pred_bin * target).sum()\n",
    "    return (2. * intersection + smooth) / (pred_bin.sum() + target.sum() + smooth)\n",
    "\n",
    "def safe_partial_load(model, ckpt_path, device, load_optimizer=False, optimizer=None):\n",
    "    ckpt = torch.load(ckpt_path, map_location=device, weights_only=False)\n",
    "    src = ckpt.get('model_state_dict', ckpt)\n",
    "    dst = model.state_dict()\n",
    "    compatible = {k: v for k, v in src.items() if k in dst and v.shape == dst[k].shape}\n",
    "    dst.update(compatible)\n",
    "    model.load_state_dict(dst, strict=False)\n",
    "    print(f\"[safe_partial_load] loaded tensors: {len(compatible)} | skipped: {len(src) - len(compatible)}\")\n",
    "    if load_optimizer and optimizer is not None and 'optimizer_state_dict' in ckpt:\n",
    "        try:\n",
    "            optimizer.load_state_dict(ckpt['optimizer_state_dict'])\n",
    "        except Exception as e:\n",
    "            print(f\"[safe_partial_load] skip optimizer state: {e}\")\n",
    "    histories = {\n",
    "        'train_history': ckpt.get('train_history', {}),\n",
    "        'val_history': ckpt.get('val_history', {}),\n",
    "        'metrics': ckpt.get('metrics', {}),\n",
    "        'epoch': ckpt.get('epoch', 0),\n",
    "    }\n",
    "    return histories\n"
   ]
  },
  {
   "cell_type": "code",
   "execution_count": 5,
   "id": "76afff11-fb2e-47ad-b666-5f22fb6081e5",
   "metadata": {},
   "outputs": [],
   "source": [
    "class Trainer:\n",
    "    def __init__(self, model, train_loader, val_loader, criterion, optimizer, scheduler, device, cfg):\n",
    "        self.model = model\n",
    "        self.train_loader = train_loader\n",
    "        self.val_loader = val_loader\n",
    "        self.criterion = criterion\n",
    "        self.optimizer = optimizer\n",
    "        self.scheduler = scheduler\n",
    "        self.device = device\n",
    "        self.cfg = cfg\n",
    "        self.scaler = GradScaler('cuda', enabled=cfg.AMP)\n",
    "        self.train_history = defaultdict(list)\n",
    "        self.val_history = defaultdict(list)\n",
    "        self.best_val_dice = 0.0\n",
    "        self.best_val_loss = float('inf')\n",
    "\n",
    "    def train_epoch(self, epoch):\n",
    "        print(f\"\\nEpoch {epoch+1}/{self.cfg.EPOCHS} [Train]\", flush=True)\n",
    "        self.model.train()\n",
    "        losses, dices = [], []\n",
    "        pbar = tqdm(self.train_loader, desc=f\"Train {epoch+1}\", unit=\"batch\", leave=False)\n",
    "        for images, masks in pbar:\n",
    "            images = images.to(self.device, non_blocking=True)\n",
    "            masks = masks.to(self.device, non_blocking=True)\n",
    "            self.optimizer.zero_grad(set_to_none=True)\n",
    "            with autocast('cuda', enabled=self.cfg.AMP):\n",
    "                outputs = self.model(images)\n",
    "                loss = self.criterion(outputs, masks)\n",
    "            self.scaler.scale(loss).backward()\n",
    "            self.scaler.step(self.optimizer)\n",
    "            self.scaler.update()\n",
    "            losses.append(loss.item())\n",
    "            with torch.no_grad():\n",
    "                d = dice_score(outputs, masks).item()\n",
    "                dices.append(d)\n",
    "            if len(losses) % 10 == 0:\n",
    "                pbar.set_postfix(loss=f\"{np.mean(losses[-10:]):.4f}\", dice=f\"{np.mean(dices[-10:]):.4f}\")\n",
    "        mean_loss, mean_dice = float(np.mean(losses)), float(np.mean(dices))\n",
    "        self.train_history['loss'].append(mean_loss)\n",
    "        self.train_history['dice'].append(mean_dice)\n",
    "        print(f\"Train  -> loss {mean_loss:.4f} | dice {mean_dice:.4f}\", flush=True)\n",
    "        return mean_loss, {'dice': mean_dice}\n",
    "\n",
    "    def validate_epoch(self, epoch):\n",
    "        print(f\"Epoch {epoch+1}/{self.cfg.EPOCHS} [Val]\", flush=True)\n",
    "        self.model.eval()\n",
    "        losses, dices = [], []\n",
    "        with torch.no_grad():\n",
    "            pbar = tqdm(self.val_loader, desc=f\"Val {epoch+1}\", unit=\"batch\", leave=False)\n",
    "            for images, masks in pbar:\n",
    "                images = images.to(self.device, non_blocking=True)\n",
    "                masks = masks.to(self.device, non_blocking=True)\n",
    "                outputs = self.model(images)\n",
    "                loss = self.criterion(outputs, masks)\n",
    "                losses.append(loss.item())\n",
    "                dices.append(dice_score(outputs, masks).item())\n",
    "                if len(losses) % 10 == 0:\n",
    "                    pbar.set_postfix(loss=f\"{np.mean(losses[-10:]):.4f}\", dice=f\"{np.mean(dices[-10:]):.4f}\")\n",
    "        mean_loss, mean_dice = float(np.mean(losses)), float(np.mean(dices))\n",
    "        self.val_history['loss'].append(mean_loss)\n",
    "        self.val_history['dice'].append(mean_dice)\n",
    "        print(f\"Val    -> loss {mean_loss:.4f} | dice {mean_dice:.4f}\\n\", flush=True)\n",
    "        return mean_loss, {'dice': mean_dice}\n",
    "\n",
    "    def save_checkpoint(self, epoch, metrics, filename):\n",
    "        path = os.path.join(self.cfg.CHECKPOINT_DIR, filename)\n",
    "        payload = {\n",
    "            'epoch': epoch + 1,\n",
    "            'model_state_dict': self.model.state_dict(),\n",
    "            'optimizer_state_dict': self.optimizer.state_dict(),\n",
    "            'train_history': dict(self.train_history),\n",
    "            'val_history': dict(self.val_history),\n",
    "            'metrics': metrics,\n",
    "        }\n",
    "        torch.save(payload, path)\n",
    "\n",
    "class Visualizer:\n",
    "    def __init__(self, cfg):\n",
    "        self.cfg = cfg\n",
    "    def plot_training_history(self, train_hist, val_hist):\n",
    "        plt.figure(figsize=(12,5))\n",
    "        plt.subplot(1,2,1)\n",
    "        plt.plot(train_hist.get('loss', []), label='Train Loss')\n",
    "        plt.plot(val_hist.get('loss', []), label='Val Loss')\n",
    "        plt.legend(); plt.title('Loss'); plt.grid()\n",
    "        plt.subplot(1,2,2)\n",
    "        plt.plot(train_hist.get('dice', []), label='Train Dice')\n",
    "        plt.plot(val_hist.get('dice', []), label='Val Dice')\n",
    "        plt.legend(); plt.title('Dice'); plt.grid()\n",
    "        plt.tight_layout()\n",
    "        plt.savefig(os.path.join(self.cfg.OUTPUT_DIR, \"history.png\"))\n",
    "        plt.close()\n",
    "    def visualize_predictions(self, model, val_dataset, device, num_samples=6):\n",
    "        model.eval()\n",
    "        os.makedirs(os.path.join(self.cfg.OUTPUT_DIR, \"viz\"), exist_ok=True)\n",
    "        n = min(num_samples, len(val_dataset))\n",
    "        if n == 0: return\n",
    "        idxs = np.random.choice(len(val_dataset), size=n, replace=False)\n",
    "        with torch.no_grad():\n",
    "            for i, idx in enumerate(idxs):\n",
    "                image, mask = val_dataset[idx]\n",
    "                image_t = image.unsqueeze(0).to(device)\n",
    "                logits = model(image_t)\n",
    "                probs = torch.sigmoid(logits)[0].cpu().numpy()\n",
    "                pred_mask = (probs > 0.5).astype(np.uint8)\n",
    "                fig, axes = plt.subplots(1, 1 + config.NUM_CLASSES, figsize=(15,4))\n",
    "                axes[0].imshow(image.permute(1,2,0).cpu().numpy())\n",
    "                axes[0].set_title(\"Image\"); axes[0].axis('off')\n",
    "                for c in range(config.NUM_CLASSES):\n",
    "                    axes[c+1].imshow(mask[c].cpu().numpy(), alpha=0.5, cmap='Reds')\n",
    "                    axes[c+1].imshow(pred_mask[c], alpha=0.5, cmap='Greens')\n",
    "                    axes[c+1].set_title(f\"Class {c+1}\"); axes[c+1].axis('off')\n",
    "                plt.tight_layout()\n",
    "                plt.savefig(os.path.join(self.cfg.OUTPUT_DIR, \"viz\", f\"sample_{i}.png\"))\n",
    "                plt.close()\n"
   ]
  },
  {
   "cell_type": "code",
   "execution_count": null,
   "id": "0644e7ec-7333-4f2e-ad4f-2e360beae58a",
   "metadata": {},
   "outputs": [
    {
     "name": "stdout",
     "output_type": "stream",
     "text": [
      "Loading checkpoint from: outputs\\checkpoints\\best_model_dice.pth\n",
      "[safe_partial_load] loaded tensors: 0 | skipped: 220\n",
      "[safe_partial_load] skip optimizer state: loaded state dict contains a parameter group that doesn't match the size of optimizer's group\n",
      "\n",
      "Epoch 9/40 [Train]\n"
     ]
    },
    {
     "name": "stderr",
     "output_type": "stream",
     "text": [
      "                                                                                                                       "
     ]
    },
    {
     "name": "stdout",
     "output_type": "stream",
     "text": [
      "Train  -> loss 0.6898 | dice 0.1149\n",
      "Epoch 9/40 [Val]\n"
     ]
    },
    {
     "name": "stderr",
     "output_type": "stream",
     "text": [
      "                                                                                                                       "
     ]
    },
    {
     "name": "stdout",
     "output_type": "stream",
     "text": [
      "Val    -> loss 0.6447 | dice 0.1981\n",
      "\n",
      "Epoch 9: Train Dice 0.1149, Val Dice 0.1981\n"
     ]
    },
    {
     "name": "stderr",
     "output_type": "stream",
     "text": []
    },
    {
     "name": "stdout",
     "output_type": "stream",
     "text": [
      "\n",
      "Epoch 10/40 [Train]\n"
     ]
    },
    {
     "name": "stderr",
     "output_type": "stream",
     "text": [
      "                                                                                                                       "
     ]
    },
    {
     "name": "stdout",
     "output_type": "stream",
     "text": [
      "Train  -> loss 0.6435 | dice 0.1853\n",
      "Epoch 10/40 [Val]\n"
     ]
    },
    {
     "name": "stderr",
     "output_type": "stream",
     "text": [
      "                                                                                                                       "
     ]
    },
    {
     "name": "stdout",
     "output_type": "stream",
     "text": [
      "Val    -> loss 0.6081 | dice 0.2404\n",
      "\n",
      "Epoch 10: Train Dice 0.1853, Val Dice 0.2404\n"
     ]
    },
    {
     "name": "stderr",
     "output_type": "stream",
     "text": []
    },
    {
     "name": "stdout",
     "output_type": "stream",
     "text": [
      "\n",
      "Epoch 11/40 [Train]\n"
     ]
    },
    {
     "name": "stderr",
     "output_type": "stream",
     "text": [
      "                                                                                                                       "
     ]
    },
    {
     "name": "stdout",
     "output_type": "stream",
     "text": [
      "Train  -> loss 0.6215 | dice 0.2292\n",
      "Epoch 11/40 [Val]\n"
     ]
    },
    {
     "name": "stderr",
     "output_type": "stream",
     "text": [
      "                                                                                                                       "
     ]
    },
    {
     "name": "stdout",
     "output_type": "stream",
     "text": [
      "Val    -> loss 0.5905 | dice 0.2869\n",
      "\n",
      "Epoch 11: Train Dice 0.2292, Val Dice 0.2869\n"
     ]
    },
    {
     "name": "stderr",
     "output_type": "stream",
     "text": []
    },
    {
     "name": "stdout",
     "output_type": "stream",
     "text": [
      "\n",
      "Epoch 12/40 [Train]\n"
     ]
    },
    {
     "name": "stderr",
     "output_type": "stream",
     "text": [
      "                                                                                                                       "
     ]
    },
    {
     "name": "stdout",
     "output_type": "stream",
     "text": [
      "Train  -> loss 0.6153 | dice 0.2558\n",
      "Epoch 12/40 [Val]\n"
     ]
    },
    {
     "name": "stderr",
     "output_type": "stream",
     "text": [
      "                                                                                                                       "
     ]
    },
    {
     "name": "stdout",
     "output_type": "stream",
     "text": [
      "Val    -> loss 0.5931 | dice 0.2931\n",
      "\n",
      "Epoch 12: Train Dice 0.2558, Val Dice 0.2931\n",
      "\n",
      "Epoch 13/40 [Train]\n"
     ]
    },
    {
     "name": "stderr",
     "output_type": "stream",
     "text": [
      "                                                                                                                       "
     ]
    },
    {
     "name": "stdout",
     "output_type": "stream",
     "text": [
      "Train  -> loss 0.6096 | dice 0.2945\n",
      "Epoch 13/40 [Val]\n"
     ]
    },
    {
     "name": "stderr",
     "output_type": "stream",
     "text": [
      "                                                                                                                       "
     ]
    },
    {
     "name": "stdout",
     "output_type": "stream",
     "text": [
      "Val    -> loss 0.5864 | dice 0.3372\n",
      "\n",
      "Epoch 13: Train Dice 0.2945, Val Dice 0.3372\n"
     ]
    },
    {
     "name": "stderr",
     "output_type": "stream",
     "text": []
    },
    {
     "name": "stdout",
     "output_type": "stream",
     "text": [
      "\n",
      "Epoch 14/40 [Train]\n"
     ]
    },
    {
     "name": "stderr",
     "output_type": "stream",
     "text": [
      "                                                                                                                       "
     ]
    },
    {
     "name": "stdout",
     "output_type": "stream",
     "text": [
      "Train  -> loss 0.6012 | dice 0.3409\n",
      "Epoch 14/40 [Val]\n"
     ]
    },
    {
     "name": "stderr",
     "output_type": "stream",
     "text": [
      "                                                                                                                       "
     ]
    },
    {
     "name": "stdout",
     "output_type": "stream",
     "text": [
      "Val    -> loss 0.5823 | dice 0.4092\n",
      "\n",
      "Epoch 14: Train Dice 0.3409, Val Dice 0.4092\n"
     ]
    },
    {
     "name": "stderr",
     "output_type": "stream",
     "text": []
    },
    {
     "name": "stdout",
     "output_type": "stream",
     "text": [
      "\n",
      "Epoch 15/40 [Train]\n"
     ]
    },
    {
     "name": "stderr",
     "output_type": "stream",
     "text": [
      "                                                                                                                       "
     ]
    },
    {
     "name": "stdout",
     "output_type": "stream",
     "text": [
      "Train  -> loss 0.5954 | dice 0.3682\n",
      "Epoch 15/40 [Val]\n"
     ]
    },
    {
     "name": "stderr",
     "output_type": "stream",
     "text": [
      "                                                                                                                       "
     ]
    },
    {
     "name": "stdout",
     "output_type": "stream",
     "text": [
      "Val    -> loss 0.5711 | dice 0.4233\n",
      "\n",
      "Epoch 15: Train Dice 0.3682, Val Dice 0.4233\n"
     ]
    },
    {
     "name": "stderr",
     "output_type": "stream",
     "text": []
    },
    {
     "name": "stdout",
     "output_type": "stream",
     "text": [
      "\n",
      "Epoch 16/40 [Train]\n"
     ]
    },
    {
     "name": "stderr",
     "output_type": "stream",
     "text": [
      "                                                                                                                       "
     ]
    },
    {
     "name": "stdout",
     "output_type": "stream",
     "text": [
      "Train  -> loss 0.5921 | dice 0.3840\n",
      "Epoch 16/40 [Val]\n"
     ]
    },
    {
     "name": "stderr",
     "output_type": "stream",
     "text": [
      "                                                                                                                       "
     ]
    },
    {
     "name": "stdout",
     "output_type": "stream",
     "text": [
      "Val    -> loss 0.5703 | dice 0.4169\n",
      "\n",
      "Epoch 16: Train Dice 0.3840, Val Dice 0.4169\n"
     ]
    },
    {
     "name": "stderr",
     "output_type": "stream",
     "text": []
    },
    {
     "name": "stdout",
     "output_type": "stream",
     "text": [
      "\n",
      "Epoch 17/40 [Train]\n"
     ]
    },
    {
     "name": "stderr",
     "output_type": "stream",
     "text": [
      "                                                                                                                       "
     ]
    },
    {
     "name": "stdout",
     "output_type": "stream",
     "text": [
      "Train  -> loss 0.5881 | dice 0.3939\n",
      "Epoch 17/40 [Val]\n"
     ]
    },
    {
     "name": "stderr",
     "output_type": "stream",
     "text": [
      "                                                                                                                       "
     ]
    },
    {
     "name": "stdout",
     "output_type": "stream",
     "text": [
      "Val    -> loss 0.5723 | dice 0.4222\n",
      "\n",
      "Epoch 17: Train Dice 0.3939, Val Dice 0.4222\n",
      "\n",
      "Epoch 18/40 [Train]\n"
     ]
    },
    {
     "name": "stderr",
     "output_type": "stream",
     "text": [
      "                                                                                                                       "
     ]
    },
    {
     "name": "stdout",
     "output_type": "stream",
     "text": [
      "Train  -> loss 0.5850 | dice 0.3971\n",
      "Epoch 18/40 [Val]\n"
     ]
    },
    {
     "name": "stderr",
     "output_type": "stream",
     "text": [
      "                                                                                                                       "
     ]
    },
    {
     "name": "stdout",
     "output_type": "stream",
     "text": [
      "Val    -> loss 0.5671 | dice 0.4391\n",
      "\n",
      "Epoch 18: Train Dice 0.3971, Val Dice 0.4391\n"
     ]
    },
    {
     "name": "stderr",
     "output_type": "stream",
     "text": []
    },
    {
     "name": "stdout",
     "output_type": "stream",
     "text": [
      "\n",
      "Epoch 19/40 [Train]\n"
     ]
    },
    {
     "name": "stderr",
     "output_type": "stream",
     "text": [
      "                                                                                                                       "
     ]
    },
    {
     "name": "stdout",
     "output_type": "stream",
     "text": [
      "Train  -> loss 0.5816 | dice 0.4093\n",
      "Epoch 19/40 [Val]\n"
     ]
    },
    {
     "name": "stderr",
     "output_type": "stream",
     "text": [
      "                                                                                                                       "
     ]
    },
    {
     "name": "stdout",
     "output_type": "stream",
     "text": [
      "Val    -> loss 0.5624 | dice 0.4773\n",
      "\n",
      "Epoch 19: Train Dice 0.4093, Val Dice 0.4773\n"
     ]
    },
    {
     "name": "stderr",
     "output_type": "stream",
     "text": []
    },
    {
     "name": "stdout",
     "output_type": "stream",
     "text": [
      "\n",
      "Epoch 20/40 [Train]\n"
     ]
    },
    {
     "name": "stderr",
     "output_type": "stream",
     "text": [
      "                                                                                                                       "
     ]
    },
    {
     "name": "stdout",
     "output_type": "stream",
     "text": [
      "Train  -> loss 0.5776 | dice 0.4218\n",
      "Epoch 20/40 [Val]\n"
     ]
    },
    {
     "name": "stderr",
     "output_type": "stream",
     "text": [
      "                                                                                                                       "
     ]
    },
    {
     "name": "stdout",
     "output_type": "stream",
     "text": [
      "Val    -> loss 0.5629 | dice 0.4597\n",
      "\n",
      "Epoch 20: Train Dice 0.4218, Val Dice 0.4597\n",
      "\n",
      "Epoch 21/40 [Train]\n"
     ]
    },
    {
     "name": "stderr",
     "output_type": "stream",
     "text": [
      "                                                                                                                       "
     ]
    },
    {
     "name": "stdout",
     "output_type": "stream",
     "text": [
      "Train  -> loss 0.5750 | dice 0.4269\n",
      "Epoch 21/40 [Val]\n"
     ]
    },
    {
     "name": "stderr",
     "output_type": "stream",
     "text": [
      "                                                                                                                       "
     ]
    },
    {
     "name": "stdout",
     "output_type": "stream",
     "text": [
      "Val    -> loss 0.5631 | dice 0.4655\n",
      "\n",
      "Epoch 21: Train Dice 0.4269, Val Dice 0.4655\n",
      "\n",
      "Epoch 22/40 [Train]\n"
     ]
    },
    {
     "name": "stderr",
     "output_type": "stream",
     "text": [
      "                                                                                                                       "
     ]
    },
    {
     "name": "stdout",
     "output_type": "stream",
     "text": [
      "Train  -> loss 0.5741 | dice 0.4319\n",
      "Epoch 22/40 [Val]\n"
     ]
    },
    {
     "name": "stderr",
     "output_type": "stream",
     "text": [
      "                                                                                                                       "
     ]
    },
    {
     "name": "stdout",
     "output_type": "stream",
     "text": [
      "Val    -> loss 0.5595 | dice 0.4700\n",
      "\n",
      "Epoch 22: Train Dice 0.4319, Val Dice 0.4700\n"
     ]
    },
    {
     "name": "stderr",
     "output_type": "stream",
     "text": []
    },
    {
     "name": "stdout",
     "output_type": "stream",
     "text": [
      "\n",
      "Epoch 23/40 [Train]\n"
     ]
    },
    {
     "name": "stderr",
     "output_type": "stream",
     "text": [
      "                                                                                                                       "
     ]
    },
    {
     "name": "stdout",
     "output_type": "stream",
     "text": [
      "Train  -> loss 0.5712 | dice 0.4435\n",
      "Epoch 23/40 [Val]\n"
     ]
    },
    {
     "name": "stderr",
     "output_type": "stream",
     "text": [
      "                                                                                                                       "
     ]
    },
    {
     "name": "stdout",
     "output_type": "stream",
     "text": [
      "Val    -> loss 0.5502 | dice 0.4930\n",
      "\n",
      "Epoch 23: Train Dice 0.4435, Val Dice 0.4930\n"
     ]
    },
    {
     "name": "stderr",
     "output_type": "stream",
     "text": []
    },
    {
     "name": "stdout",
     "output_type": "stream",
     "text": [
      "\n",
      "Epoch 24/40 [Train]\n"
     ]
    },
    {
     "name": "stderr",
     "output_type": "stream",
     "text": [
      "                                                                                                                       "
     ]
    },
    {
     "name": "stdout",
     "output_type": "stream",
     "text": [
      "Train  -> loss 0.5683 | dice 0.4487\n",
      "Epoch 24/40 [Val]\n"
     ]
    },
    {
     "name": "stderr",
     "output_type": "stream",
     "text": [
      "                                                                                                                       "
     ]
    },
    {
     "name": "stdout",
     "output_type": "stream",
     "text": [
      "Val    -> loss 0.5503 | dice 0.5169\n",
      "\n",
      "Epoch 24: Train Dice 0.4487, Val Dice 0.5169\n",
      "\n",
      "Epoch 25/40 [Train]\n"
     ]
    },
    {
     "name": "stderr",
     "output_type": "stream",
     "text": [
      "                                                                                                                       "
     ]
    },
    {
     "name": "stdout",
     "output_type": "stream",
     "text": [
      "Train  -> loss 0.5668 | dice 0.4527\n",
      "Epoch 25/40 [Val]\n"
     ]
    },
    {
     "name": "stderr",
     "output_type": "stream",
     "text": [
      "                                                                                                                       "
     ]
    },
    {
     "name": "stdout",
     "output_type": "stream",
     "text": [
      "Val    -> loss 0.5499 | dice 0.5110\n",
      "\n",
      "Epoch 25: Train Dice 0.4527, Val Dice 0.5110\n"
     ]
    },
    {
     "name": "stderr",
     "output_type": "stream",
     "text": []
    },
    {
     "name": "stdout",
     "output_type": "stream",
     "text": [
      "\n",
      "Epoch 26/40 [Train]\n"
     ]
    },
    {
     "name": "stderr",
     "output_type": "stream",
     "text": [
      "                                                                                                                       "
     ]
    },
    {
     "name": "stdout",
     "output_type": "stream",
     "text": [
      "Train  -> loss 0.5644 | dice 0.4610\n",
      "Epoch 26/40 [Val]\n"
     ]
    },
    {
     "name": "stderr",
     "output_type": "stream",
     "text": [
      "                                                                                                                       "
     ]
    },
    {
     "name": "stdout",
     "output_type": "stream",
     "text": [
      "Val    -> loss 0.5482 | dice 0.5075\n",
      "\n",
      "Epoch 26: Train Dice 0.4610, Val Dice 0.5075\n"
     ]
    },
    {
     "name": "stderr",
     "output_type": "stream",
     "text": []
    },
    {
     "name": "stdout",
     "output_type": "stream",
     "text": [
      "\n",
      "Epoch 27/40 [Train]\n"
     ]
    },
    {
     "name": "stderr",
     "output_type": "stream",
     "text": [
      "                                                                                                                       "
     ]
    },
    {
     "name": "stdout",
     "output_type": "stream",
     "text": [
      "Train  -> loss 0.5627 | dice 0.4677\n",
      "Epoch 27/40 [Val]\n"
     ]
    },
    {
     "name": "stderr",
     "output_type": "stream",
     "text": [
      "                                                                                                                       "
     ]
    },
    {
     "name": "stdout",
     "output_type": "stream",
     "text": [
      "Val    -> loss 0.5490 | dice 0.5101\n",
      "\n",
      "Epoch 27: Train Dice 0.4677, Val Dice 0.5101\n",
      "\n",
      "Epoch 28/40 [Train]\n"
     ]
    },
    {
     "name": "stderr",
     "output_type": "stream",
     "text": [
      "                                                                                                                       "
     ]
    },
    {
     "name": "stdout",
     "output_type": "stream",
     "text": [
      "Train  -> loss 0.5592 | dice 0.4726\n",
      "Epoch 28/40 [Val]\n"
     ]
    },
    {
     "name": "stderr",
     "output_type": "stream",
     "text": [
      "                                                                                                                       "
     ]
    },
    {
     "name": "stdout",
     "output_type": "stream",
     "text": [
      "Val    -> loss 0.5446 | dice 0.5415\n",
      "\n",
      "Epoch 28: Train Dice 0.4726, Val Dice 0.5415\n"
     ]
    },
    {
     "name": "stderr",
     "output_type": "stream",
     "text": []
    },
    {
     "name": "stdout",
     "output_type": "stream",
     "text": [
      "\n",
      "Epoch 29/40 [Train]\n"
     ]
    },
    {
     "name": "stderr",
     "output_type": "stream",
     "text": [
      "                                                                                                                       "
     ]
    },
    {
     "name": "stdout",
     "output_type": "stream",
     "text": [
      "Train  -> loss 0.5592 | dice 0.4806\n",
      "Epoch 29/40 [Val]\n"
     ]
    },
    {
     "name": "stderr",
     "output_type": "stream",
     "text": [
      "                                                                                                                       "
     ]
    },
    {
     "name": "stdout",
     "output_type": "stream",
     "text": [
      "Val    -> loss 0.5431 | dice 0.5313\n",
      "\n",
      "Epoch 29: Train Dice 0.4806, Val Dice 0.5313\n"
     ]
    },
    {
     "name": "stderr",
     "output_type": "stream",
     "text": []
    },
    {
     "name": "stdout",
     "output_type": "stream",
     "text": [
      "\n",
      "Epoch 30/40 [Train]\n"
     ]
    },
    {
     "name": "stderr",
     "output_type": "stream",
     "text": [
      "                                                                                                                       "
     ]
    },
    {
     "name": "stdout",
     "output_type": "stream",
     "text": [
      "Train  -> loss 0.5553 | dice 0.4851\n",
      "Epoch 30/40 [Val]\n"
     ]
    },
    {
     "name": "stderr",
     "output_type": "stream",
     "text": [
      "                                                                                                                       "
     ]
    },
    {
     "name": "stdout",
     "output_type": "stream",
     "text": [
      "Val    -> loss 0.5425 | dice 0.5339\n",
      "\n",
      "Epoch 30: Train Dice 0.4851, Val Dice 0.5339\n"
     ]
    },
    {
     "name": "stderr",
     "output_type": "stream",
     "text": []
    },
    {
     "name": "stdout",
     "output_type": "stream",
     "text": [
      "\n",
      "Epoch 31/40 [Train]\n"
     ]
    },
    {
     "name": "stderr",
     "output_type": "stream",
     "text": [
      "                                                                                                                       "
     ]
    },
    {
     "name": "stdout",
     "output_type": "stream",
     "text": [
      "Train  -> loss 0.5532 | dice 0.4889\n",
      "Epoch 31/40 [Val]\n"
     ]
    },
    {
     "name": "stderr",
     "output_type": "stream",
     "text": [
      "                                                                                                                       "
     ]
    },
    {
     "name": "stdout",
     "output_type": "stream",
     "text": [
      "Val    -> loss 0.5445 | dice 0.5142\n",
      "\n",
      "Epoch 31: Train Dice 0.4889, Val Dice 0.5142\n",
      "\n",
      "Epoch 32/40 [Train]\n"
     ]
    },
    {
     "name": "stderr",
     "output_type": "stream",
     "text": [
      "                                                                                                                       "
     ]
    },
    {
     "name": "stdout",
     "output_type": "stream",
     "text": [
      "Train  -> loss 0.5530 | dice 0.4966\n",
      "Epoch 32/40 [Val]\n"
     ]
    },
    {
     "name": "stderr",
     "output_type": "stream",
     "text": [
      "                                                                                                                       "
     ]
    },
    {
     "name": "stdout",
     "output_type": "stream",
     "text": [
      "Val    -> loss 0.5406 | dice 0.5384\n",
      "\n",
      "Epoch 32: Train Dice 0.4966, Val Dice 0.5384\n"
     ]
    },
    {
     "name": "stderr",
     "output_type": "stream",
     "text": []
    },
    {
     "name": "stdout",
     "output_type": "stream",
     "text": [
      "\n",
      "Epoch 33/40 [Train]\n"
     ]
    },
    {
     "name": "stderr",
     "output_type": "stream",
     "text": [
      "                                                                                                                       "
     ]
    },
    {
     "name": "stdout",
     "output_type": "stream",
     "text": [
      "Train  -> loss 0.5504 | dice 0.5016\n",
      "Epoch 33/40 [Val]\n"
     ]
    },
    {
     "name": "stderr",
     "output_type": "stream",
     "text": [
      "                                                                                                                       "
     ]
    },
    {
     "name": "stdout",
     "output_type": "stream",
     "text": [
      "Val    -> loss 0.5390 | dice 0.5442\n",
      "\n",
      "Epoch 33: Train Dice 0.5016, Val Dice 0.5442\n"
     ]
    },
    {
     "name": "stderr",
     "output_type": "stream",
     "text": []
    },
    {
     "name": "stdout",
     "output_type": "stream",
     "text": [
      "\n",
      "Epoch 34/40 [Train]\n"
     ]
    },
    {
     "name": "stderr",
     "output_type": "stream",
     "text": [
      "                                                                                                                       "
     ]
    },
    {
     "name": "stdout",
     "output_type": "stream",
     "text": [
      "Train  -> loss 0.5494 | dice 0.5108\n",
      "Epoch 34/40 [Val]\n"
     ]
    },
    {
     "name": "stderr",
     "output_type": "stream",
     "text": [
      "                                                                                                                       "
     ]
    },
    {
     "name": "stdout",
     "output_type": "stream",
     "text": [
      "Val    -> loss 0.5398 | dice 0.5381\n",
      "\n",
      "Epoch 34: Train Dice 0.5108, Val Dice 0.5381\n",
      "\n",
      "Epoch 35/40 [Train]\n"
     ]
    },
    {
     "name": "stderr",
     "output_type": "stream",
     "text": [
      "                                                                                                                       "
     ]
    },
    {
     "name": "stdout",
     "output_type": "stream",
     "text": [
      "Train  -> loss 0.5479 | dice 0.5093\n",
      "Epoch 35/40 [Val]\n"
     ]
    },
    {
     "name": "stderr",
     "output_type": "stream",
     "text": [
      "                                                                                                                       "
     ]
    },
    {
     "name": "stdout",
     "output_type": "stream",
     "text": [
      "Val    -> loss 0.5362 | dice 0.5551\n",
      "\n",
      "Epoch 35: Train Dice 0.5093, Val Dice 0.5551\n"
     ]
    },
    {
     "name": "stderr",
     "output_type": "stream",
     "text": []
    },
    {
     "name": "stdout",
     "output_type": "stream",
     "text": [
      "\n",
      "Epoch 36/40 [Train]\n"
     ]
    },
    {
     "name": "stderr",
     "output_type": "stream",
     "text": [
      "                                                                                                                       "
     ]
    },
    {
     "name": "stdout",
     "output_type": "stream",
     "text": [
      "Train  -> loss 0.5453 | dice 0.5178\n",
      "Epoch 36/40 [Val]\n"
     ]
    },
    {
     "name": "stderr",
     "output_type": "stream",
     "text": [
      "                                                                                                                       "
     ]
    },
    {
     "name": "stdout",
     "output_type": "stream",
     "text": [
      "Val    -> loss 0.5363 | dice 0.5489\n",
      "\n",
      "Epoch 36: Train Dice 0.5178, Val Dice 0.5489\n",
      "\n",
      "Epoch 37/40 [Train]\n"
     ]
    },
    {
     "name": "stderr",
     "output_type": "stream",
     "text": [
      "                                                                                                                       "
     ]
    }
   ],
   "source": [
    "def main():\n",
    "    train_df = pd.read_csv(config.TRAIN_CSV)\n",
    "    image_ids = train_df['ImageId'].unique()\n",
    "    train_ids, val_ids = train_test_split(image_ids, test_size=0.15, random_state=42, shuffle=True)\n",
    "    train_data = train_df[train_df['ImageId'].isin(train_ids)]\n",
    "    val_data = train_df[train_df['ImageId'].isin(val_ids)]\n",
    "    train_dataset = SteelDefectDataset(train_data, config.TRAIN_IMG_DIR, config.IMG_SIZE, mode='train')\n",
    "    val_dataset = SteelDefectDataset(val_data, config.TRAIN_IMG_DIR, config.IMG_SIZE, mode='val')\n",
    "    train_loader = DataLoader(train_dataset, batch_size=config.BATCH_SIZE, shuffle=True, num_workers=config.NUM_WORKERS, pin_memory=True)\n",
    "    val_loader = DataLoader(val_dataset, batch_size=config.BATCH_SIZE, shuffle=False, num_workers=config.NUM_WORKERS, pin_memory=True)\n",
    "    model = ImprovedUNet(in_ch=3, out_ch=config.NUM_CLASSES).to(config.DEVICE)\n",
    "    criterion = CombinedLoss()\n",
    "    optimizer = optim.AdamW(model.parameters(), lr=config.LEARNING_RATE, weight_decay=config.WEIGHT_DECAY)\n",
    "    scheduler = CosineAnnealingLR(optimizer, T_max=config.T_MAX, eta_min=config.ETA_MIN)\n",
    "    checkpoint_path = os.path.join(config.CHECKPOINT_DIR, 'best_model_dice.pth')\n",
    "    start_epoch = 0\n",
    "    trainer = Trainer(model, train_loader, val_loader, criterion, optimizer, scheduler, config.DEVICE, config)\n",
    "    if os.path.exists(checkpoint_path):\n",
    "        print(\"Loading checkpoint from:\", checkpoint_path)\n",
    "        hist = safe_partial_load(model, checkpoint_path, config.DEVICE, load_optimizer=True, optimizer=optimizer)\n",
    "        trainer.train_history = defaultdict(list, hist['train_history'])\n",
    "        trainer.val_history = defaultdict(list, hist['val_history'])\n",
    "        metrics = hist['metrics']\n",
    "        trainer.best_val_dice = metrics.get('dice', 0.0)\n",
    "        trainer.best_val_loss = metrics.get('loss', float('inf'))\n",
    "        start_epoch = 8\n",
    "    max_epochs = config.EPOCHS\n",
    "    for epoch in range(start_epoch, max_epochs):\n",
    "        tr_loss, tr_metrics = trainer.train_epoch(epoch)\n",
    "        val_loss, val_metrics = trainer.validate_epoch(epoch)\n",
    "        scheduler.step()\n",
    "        print(f\"Epoch {epoch+1}: Train Dice {tr_metrics['dice']:.4f}, Val Dice {val_metrics['dice']:.4f}\", flush=True)\n",
    "        if val_metrics['dice'] > trainer.best_val_dice:\n",
    "            trainer.best_val_dice = val_metrics['dice']\n",
    "            trainer.save_checkpoint(epoch, val_metrics, 'best_model_dice.pth')\n",
    "        if val_loss < trainer.best_val_loss:\n",
    "            trainer.best_val_loss = val_loss\n",
    "            trainer.save_checkpoint(epoch, val_metrics, 'best_model_loss.pth')\n",
    "        if val_metrics['dice'] >= config.TARGET_DICE:\n",
    "            print(f\"✓ Early stopping! Target Dice ({config.TARGET_DICE*100:.1f}%) reached at epoch {epoch+1}!\")\n",
    "            break\n",
    "    vis = Visualizer(config)\n",
    "    vis.plot_training_history(trainer.train_history, trainer.val_history)\n",
    "    vis.visualize_predictions(model, val_dataset, config.DEVICE, num_samples=6)\n",
    "    print(\"✓ Full resumed pipeline completed, results in:\", config.OUTPUT_DIR)\n",
    "main()\n"
   ]
  },
  {
   "cell_type": "code",
   "execution_count": null,
   "id": "89c03195-9d5b-45cc-bad3-88149f20a1c7",
   "metadata": {},
   "outputs": [],
   "source": [
    "import pandas as pd\n",
    "import matplotlib.pyplot as plt\n",
    "\n",
    "# --- Save training curves ---\n",
    "def plot_and_save_history(train_hist, val_hist, out_dir):\n",
    "    plt.figure(figsize=(12,5))\n",
    "    plt.subplot(1,2,1)\n",
    "    plt.plot(train_hist.get('loss', []), label='Train Loss')\n",
    "    plt.plot(val_hist.get('loss', []), label='Val Loss')\n",
    "    plt.legend(); plt.title('Loss'); plt.grid()\n",
    "    plt.subplot(1,2,2)\n",
    "    plt.plot(train_hist.get('dice', []), label='Train Dice')\n",
    "    plt.plot(val_hist.get('dice', []), label='Val Dice')\n",
    "    plt.legend(); plt.title('Dice'); plt.grid()\n",
    "    plt.tight_layout()\n",
    "    out_path = os.path.join(out_dir, \"history.png\")\n",
    "    plt.savefig(out_path)\n",
    "    plt.show()\n",
    "\n",
    "    return out_path\n",
    "\n",
    "# --- Save final metrics as CSV table ---\n",
    "def save_metrics_table(trainer, out_dir):\n",
    "    last_tr = {'loss': trainer.train_history['loss'][-1], 'dice': trainer.train_history['dice'][-1]}\n",
    "    last_val = {'loss': trainer.val_history['loss'][-1], 'dice': trainer.val_history['dice'][-1]}\n",
    "    df = pd.DataFrame([\n",
    "        {'Split': 'Train', **last_tr},\n",
    "        {'Split': 'Validation', **last_val},\n",
    "        {'Split': 'Best Val', 'loss': trainer.best_val_loss, 'dice': trainer.best_val_dice}\n",
    "    ])\n",
    "    metrics_path = os.path.join(out_dir, \"metrics_table.csv\")\n",
    "    df.to_csv(metrics_path, index=False)\n",
    "    print(f\"Metrics table saved to {metrics_path}\")\n",
    "    display(df)\n",
    "    return metrics_path\n",
    "\n",
    "# --- Call these at end of training ---\n",
    "plot_and_save_history(trainer.train_history, trainer.val_history, config.OUTPUT_DIR)\n",
    "save_metrics_table(trainer, config.OUTPUT_DIR)\n"
   ]
  },
  {
   "cell_type": "code",
   "execution_count": null,
   "id": "157ca807-f47c-416a-b988-6a143c160849",
   "metadata": {},
   "outputs": [],
   "source": [
    "def visualize_sample_predictions(model, val_dataset, out_dir, device, num_samples=6):\n",
    "    import matplotlib.pyplot as plt\n",
    "    model.eval()\n",
    "    os.makedirs(out_dir, exist_ok=True)\n",
    "    idxs = np.random.choice(len(val_dataset), size=min(num_samples, len(val_dataset)), replace=False)\n",
    "    with torch.no_grad():\n",
    "        for i, idx in enumerate(idxs):\n",
    "            image, mask = val_dataset[idx]\n",
    "            image_t = image.unsqueeze(0).to(device)\n",
    "            logits = model(image_t)\n",
    "            probs = torch.sigmoid(logits)[0].cpu().numpy()\n",
    "            pred_mask = (probs > 0.5).astype(np.uint8)\n",
    "            fig, axes = plt.subplots(1, 1 + config.NUM_CLASSES, figsize=(15,4))\n",
    "            axes[0].imshow(image.permute(1,2,0).cpu().numpy())\n",
    "            axes[0].set_title(\"Image\"); axes[0].axis('off')\n",
    "            for c in range(config.NUM_CLASSES):\n",
    "                axes[c+1].imshow(mask[c].cpu().numpy(), alpha=0.5, cmap='Reds')\n",
    "                axes[c+1].imshow(pred_mask[c], alpha=0.5, cmap='Greens')\n",
    "                axes[c+1].set_title(f\"Class {c+1}\"); axes[c+1].axis('off')\n",
    "            plt.tight_layout()\n",
    "            img_path = os.path.join(out_dir, f\"sample_{i}.png\")\n",
    "            plt.savefig(img_path)\n",
    "            plt.close()\n",
    "    print(f\"{len(idxs)} validation prediction overlays saved to {out_dir}\")\n",
    "\n",
    "# Usage:\n",
    "visualize_sample_predictions(model, val_dataset, os.path.join(config.OUTPUT_DIR, \"viz\"), config.DEVICE)\n"
   ]
  }
 ],
 "metadata": {
  "kernelspec": {
   "display_name": "Python (ml_env)",
   "language": "python",
   "name": "ml_env"
  },
  "language_info": {
   "codemirror_mode": {
    "name": "ipython",
    "version": 3
   },
   "file_extension": ".py",
   "mimetype": "text/x-python",
   "name": "python",
   "nbconvert_exporter": "python",
   "pygments_lexer": "ipython3",
   "version": "3.11.13"
  }
 },
 "nbformat": 4,
 "nbformat_minor": 5
}
